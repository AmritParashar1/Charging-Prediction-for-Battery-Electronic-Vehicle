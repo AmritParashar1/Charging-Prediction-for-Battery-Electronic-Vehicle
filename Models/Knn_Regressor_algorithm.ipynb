{
 "cells": [
  {
   "cell_type": "code",
   "execution_count": 1,
   "id": "a0e7eb75",
   "metadata": {},
   "outputs": [],
   "source": [
    "import pandas as pd\n",
    "import numpy as np\n",
    "import seaborn as sns\n",
    "import matplotlib.pyplot as plt\n",
    "%matplotlib inline"
   ]
  },
  {
   "cell_type": "code",
   "execution_count": 2,
   "id": "ad0b70bf",
   "metadata": {},
   "outputs": [],
   "source": [
    "X_train = pd.read_csv(r\"../data/X_train.csv\")\n",
    "X_test = pd.read_csv(r\"../data/X_test.csv\")\n",
    "y_train = pd.read_csv(r\"../data/y_train.csv\")\n",
    "y_test = pd.read_csv(r\"../data/y_test.csv\")"
   ]
  },
  {
   "cell_type": "code",
   "execution_count": 3,
   "id": "6bff4211",
   "metadata": {},
   "outputs": [
    {
     "data": {
      "text/plain": [
       "((59954, 92), (59954, 1), (14989, 92), (14989, 1))"
      ]
     },
     "execution_count": 3,
     "metadata": {},
     "output_type": "execute_result"
    }
   ],
   "source": [
    "X_train.shape, y_train.shape, X_test.shape, y_test.shape"
   ]
  },
  {
   "cell_type": "code",
   "execution_count": 4,
   "id": "bbe80d0d",
   "metadata": {},
   "outputs": [],
   "source": [
    "from sklearn.ensemble import RandomForestRegressor\n",
    "from sklearn.ensemble import AdaBoostRegressor\n",
    "from sklearn.linear_model import LinearRegression, Ridge,Lasso,ElasticNet\n",
    "from sklearn.neighbors import KNeighborsRegressor\n",
    "from sklearn.tree import DecisionTreeRegressor\n",
    "from sklearn.svm import SVR\n",
    "from sklearn.metrics import r2_score, mean_absolute_error, mean_squared_error"
   ]
  },
  {
   "cell_type": "code",
   "execution_count": 5,
   "id": "430f09f8",
   "metadata": {},
   "outputs": [],
   "source": [
    "##Create a Function to Evaluate Model\n",
    "def evaluate_model(true, predicted):\n",
    "    mae = mean_absolute_error(true, predicted)\n",
    "    mse = mean_squared_error(true, predicted)\n",
    "    rmse = np.sqrt(mean_squared_error(true, predicted))\n",
    "    r2_square = r2_score(true, predicted)\n",
    "    return mae, rmse, r2_square"
   ]
  },
  {
   "cell_type": "code",
   "execution_count": 6,
   "id": "0fb08f47",
   "metadata": {},
   "outputs": [
    {
     "name": "stdout",
     "output_type": "stream",
     "text": [
      "Linear Regression\n",
      "Model performance for Training set\n",
      "- Root Mean Squared Error: 28.9276\n",
      "- Mean Absolute Error: 14.0904\n",
      "- R2 Score: 0.8905\n",
      "----------------------------------\n",
      "Model performance for Test set\n",
      "- Root Mean Squared Error: 27.8526\n",
      "- Mean Absolute Error: 14.1743\n",
      "- R2 Score: 0.8984\n",
      "===================================\n",
      "\n",
      "\n",
      "Lasso\n",
      "Model performance for Training set\n",
      "- Root Mean Squared Error: 44.7685\n",
      "- Mean Absolute Error: 30.7339\n",
      "- R2 Score: 0.7378\n",
      "----------------------------------\n",
      "Model performance for Test set\n",
      "- Root Mean Squared Error: 45.0154\n",
      "- Mean Absolute Error: 31.0201\n",
      "- R2 Score: 0.7346\n",
      "===================================\n",
      "\n",
      "\n",
      "Ridge\n",
      "Model performance for Training set\n",
      "- Root Mean Squared Error: 43.6847\n",
      "- Mean Absolute Error: 30.5221\n",
      "- R2 Score: 0.7504\n",
      "----------------------------------\n",
      "Model performance for Test set\n",
      "- Root Mean Squared Error: 44.1744\n",
      "- Mean Absolute Error: 30.8423\n",
      "- R2 Score: 0.7444\n",
      "===================================\n",
      "\n",
      "\n",
      "K-Neighbors Regressor\n",
      "Model performance for Training set\n",
      "- Root Mean Squared Error: 49.1697\n",
      "- Mean Absolute Error: 28.5445\n",
      "- R2 Score: 0.6838\n",
      "----------------------------------\n",
      "Model performance for Test set\n",
      "- Root Mean Squared Error: 60.6443\n",
      "- Mean Absolute Error: 35.7886\n",
      "- R2 Score: 0.5183\n",
      "===================================\n",
      "\n",
      "\n",
      "Decision Tree\n",
      "Model performance for Training set\n",
      "- Root Mean Squared Error: 0.0000\n",
      "- Mean Absolute Error: 0.0000\n",
      "- R2 Score: 1.0000\n",
      "----------------------------------\n",
      "Model performance for Test set\n",
      "- Root Mean Squared Error: 8.4792\n",
      "- Mean Absolute Error: 4.3752\n",
      "- R2 Score: 0.9906\n",
      "===================================\n",
      "\n",
      "\n"
     ]
    },
    {
     "name": "stderr",
     "output_type": "stream",
     "text": [
      "C:\\Users\\aman2\\AppData\\Local\\Temp\\ipykernel_13168\\4021420278.py:17: DataConversionWarning: A column-vector y was passed when a 1d array was expected. Please change the shape of y to (n_samples,), for example using ravel().\n",
      "  model.fit(X_train, y_train) # Train model\n"
     ]
    },
    {
     "name": "stdout",
     "output_type": "stream",
     "text": [
      "Random Forest Regressor\n",
      "Model performance for Training set\n",
      "- Root Mean Squared Error: 2.1256\n",
      "- Mean Absolute Error: 1.1124\n",
      "- R2 Score: 0.9994\n",
      "----------------------------------\n",
      "Model performance for Test set\n",
      "- Root Mean Squared Error: 5.5368\n",
      "- Mean Absolute Error: 2.9691\n",
      "- R2 Score: 0.9960\n",
      "===================================\n",
      "\n",
      "\n"
     ]
    },
    {
     "name": "stderr",
     "output_type": "stream",
     "text": [
      "c:\\Users\\aman2\\anaconda3\\Lib\\site-packages\\sklearn\\utils\\validation.py:1143: DataConversionWarning: A column-vector y was passed when a 1d array was expected. Please change the shape of y to (n_samples, ), for example using ravel().\n",
      "  y = column_or_1d(y, warn=True)\n"
     ]
    },
    {
     "name": "stdout",
     "output_type": "stream",
     "text": [
      "Adaboost Regressor\n",
      "Model performance for Training set\n",
      "- Root Mean Squared Error: 27.6869\n",
      "- Mean Absolute Error: 25.0297\n",
      "- R2 Score: 0.8997\n",
      "----------------------------------\n",
      "Model performance for Test set\n",
      "- Root Mean Squared Error: 27.8403\n",
      "- Mean Absolute Error: 25.1405\n",
      "- R2 Score: 0.8985\n",
      "===================================\n",
      "\n",
      "\n"
     ]
    }
   ],
   "source": [
    "## Beginning Model Training\n",
    "models = {\n",
    "    \"Linear Regression\": LinearRegression(),\n",
    "    \"Lasso\": Lasso(),\n",
    "    \"Ridge\": Ridge(),\n",
    "    \"K-Neighbors Regressor\": KNeighborsRegressor(),\n",
    "    \"Decision Tree\": DecisionTreeRegressor(),\n",
    "    \"Random Forest Regressor\": RandomForestRegressor(),\n",
    "    \"Adaboost Regressor\":AdaBoostRegressor(),\n",
    "   # \"Graident BoostRegressor\":GradientBoostingRegressor(),\n",
    "    #\"Xgboost Regressor\":XGBRegressor()\n",
    "   \n",
    "}\n",
    "\n",
    "for i in range(len(list(models))):\n",
    "    model = list(models.values())[i]\n",
    "    model.fit(X_train, y_train) # Train model\n",
    "\n",
    "    # Make predictions\n",
    "    y_train_pred = model.predict(X_train)\n",
    "    y_test_pred = model.predict(X_test)\n",
    "    \n",
    "    # Evaluate Train and Test dataset\n",
    "    model_train_mae , model_train_rmse, model_train_r2 = evaluate_model(y_train, y_train_pred)\n",
    "\n",
    "    model_test_mae , model_test_rmse, model_test_r2 = evaluate_model(y_test, y_test_pred)\n",
    "\n",
    "    \n",
    "    print(list(models.keys())[i])\n",
    "    \n",
    "    print('Model performance for Training set')\n",
    "    print(\"- Root Mean Squared Error: {:.4f}\".format(model_train_rmse))\n",
    "    print(\"- Mean Absolute Error: {:.4f}\".format(model_train_mae))\n",
    "    print(\"- R2 Score: {:.4f}\".format(model_train_r2))\n",
    "\n",
    "    print('----------------------------------')\n",
    "    \n",
    "    print('Model performance for Test set')\n",
    "    print(\"- Root Mean Squared Error: {:.4f}\".format(model_test_rmse))\n",
    "    print(\"- Mean Absolute Error: {:.4f}\".format(model_test_mae))\n",
    "    print(\"- R2 Score: {:.4f}\".format(model_test_r2))\n",
    "    \n",
    "    print('='*35)\n",
    "    print('\\n')"
   ]
  },
  {
   "cell_type": "code",
   "execution_count": 7,
   "id": "d00bd5a2",
   "metadata": {},
   "outputs": [],
   "source": [
    "#Initialize few parameter for Hyperparamter tuning\n",
    "knn_params = {\"n_neighbors\": [2, 3, 10, 20, 40, 50]}"
   ]
  },
  {
   "cell_type": "code",
   "execution_count": 8,
   "id": "5173b264",
   "metadata": {},
   "outputs": [],
   "source": [
    "# Models list for Hyperparameter tuning\n",
    "randomcv_models = [('KNN', KNeighborsRegressor(), knn_params)]"
   ]
  },
  {
   "cell_type": "code",
   "execution_count": 9,
   "id": "26c51c07",
   "metadata": {},
   "outputs": [
    {
     "name": "stdout",
     "output_type": "stream",
     "text": [
      "\n",
      "🔍 Starting RandomizedSearchCV for: KNN\n",
      "Fitting 3 folds for each of 6 candidates, totalling 18 fits\n"
     ]
    },
    {
     "name": "stderr",
     "output_type": "stream",
     "text": [
      "c:\\Users\\aman2\\anaconda3\\Lib\\site-packages\\sklearn\\model_selection\\_search.py:305: UserWarning: The total space of parameters 6 is smaller than n_iter=100. Running 6 iterations. For exhaustive searches, use GridSearchCV.\n",
      "  warnings.warn(\n"
     ]
    },
    {
     "name": "stdout",
     "output_type": "stream",
     "text": [
      "⏱️ Total time taken for KNN: 39.21 seconds\n",
      "\n",
      "---------------- Best Params for KNN -------------------\n",
      "{'n_neighbors': 10}\n"
     ]
    }
   ],
   "source": [
    "# ##Hyperparameter Tuning\n",
    "# from sklearn.model_selection import RandomizedSearchCV\n",
    "\n",
    "# model_param = {}\n",
    "# for name, model, params in randomcv_models:\n",
    "#     random = RandomizedSearchCV(estimator=model,\n",
    "#                                    param_distributions=params,\n",
    "#                                    n_iter=100,\n",
    "#                                    cv=3,\n",
    "#                                    verbose=2,\n",
    "#                                    n_jobs=-1)\n",
    "#     random.fit(X_train, y_train)\n",
    "#     model_param[name] = random.best_params_\n",
    "\n",
    "# for model_name in model_param:\n",
    "#     print(f\"---------------- Best Params for {model_name} -------------------\")\n",
    "#     print(model_param[model_name])\n",
    "    \n",
    "    \n",
    "    \n",
    "from sklearn.model_selection import RandomizedSearchCV\n",
    "import time\n",
    "\n",
    "model_param = {}\n",
    "n_iter = 100\n",
    "\n",
    "for name, model, params in randomcv_models:\n",
    "    print(f\"\\n🔍 Starting RandomizedSearchCV for: {name}\")\n",
    "    \n",
    "    random = RandomizedSearchCV(\n",
    "        estimator=model,\n",
    "        param_distributions=params,\n",
    "        n_iter=n_iter,\n",
    "        cv=3,\n",
    "        verbose=2,   # Set to 0 to manage output ourselves\n",
    "        n_jobs=-1\n",
    "    )\n",
    "\n",
    "    # Track iterations manually using loop + Timer\n",
    "    start = time.time()\n",
    "    for i, (param_set) in enumerate(randomcv_models[0][2].items(), start=1):\n",
    "        if i % 5 == 0:\n",
    "            print(f\"✅ {i} iterations completed for {name}...\")\n",
    "\n",
    "    random.fit(X_train, y_train)\n",
    "    end = time.time()\n",
    "\n",
    "    print(f\"⏱️ Total time taken for {name}: {round(end - start, 2)} seconds\")\n",
    "\n",
    "    model_param[name] = random.best_params_\n",
    "\n",
    "# Display best parameters\n",
    "for model_name in model_param:\n",
    "    print(f\"\\n---------------- Best Params for {model_name} -------------------\")\n",
    "    print(model_param[model_name])\n"
   ]
  },
  {
   "cell_type": "code",
   "execution_count": 10,
   "id": "c0723e8c",
   "metadata": {},
   "outputs": [
    {
     "name": "stdout",
     "output_type": "stream",
     "text": [
      "K-Neighbors Regressor\n",
      "Model performance for Training set\n",
      "- Root Mean Squared Error: 55.5129\n",
      "- Mean Absolute Error: 32.6342\n",
      "- R2 Score: 0.5969\n",
      "----------------------------------\n",
      "Model performance for Test set\n",
      "- Root Mean Squared Error: 61.4278\n",
      "- Mean Absolute Error: 36.6144\n",
      "- R2 Score: 0.5058\n",
      "===================================\n",
      "\n",
      "\n"
     ]
    }
   ],
   "source": [
    "## Retraining the models with best parameters\n",
    "models = {\n",
    "    # \"Random Forest Regressor\": RandomForestRegressor(n_estimators=100, min_samples_split=2, max_features='auto', max_depth=None,  n_jobs=-1),\n",
    "    \"K-Neighbors Regressor\": KNeighborsRegressor(n_neighbors=10, n_jobs=-1),\n",
    "    #  \"Adaboost\":AdaBoostRegressor(n_estimators=60,loss='linear')\n",
    "    \n",
    "}\n",
    "for i in range(len(list(models))):\n",
    "    model = list(models.values())[i]\n",
    "    model.fit(X_train, y_train) # Train model\n",
    "\n",
    "    # Make predictions\n",
    "    y_train_pred = model.predict(X_train)\n",
    "    y_test_pred = model.predict(X_test)\n",
    "\n",
    "    model_train_mae , model_train_rmse, model_train_r2 = evaluate_model(y_train, y_train_pred)\n",
    "\n",
    "    model_test_mae , model_test_rmse, model_test_r2 = evaluate_model(y_test, y_test_pred)\n",
    "    \n",
    "    print(list(models.keys())[i])\n",
    "    \n",
    "    print('Model performance for Training set')\n",
    "    print(\"- Root Mean Squared Error: {:.4f}\".format(model_train_rmse))\n",
    "    print(\"- Mean Absolute Error: {:.4f}\".format(model_train_mae))\n",
    "    print(\"- R2 Score: {:.4f}\".format(model_train_r2))\n",
    "\n",
    "    print('----------------------------------')\n",
    "    \n",
    "    print('Model performance for Test set')\n",
    "    print(\"- Root Mean Squared Error: {:.4f}\".format(model_test_rmse))\n",
    "    print(\"- Mean Absolute Error: {:.4f}\".format(model_test_mae))\n",
    "    print(\"- R2 Score: {:.4f}\".format(model_test_r2))\n",
    "    \n",
    "    print('='*35)\n",
    "    print('\\n')"
   ]
  },
  {
   "cell_type": "code",
   "execution_count": 11,
   "id": "56c24e12",
   "metadata": {},
   "outputs": [],
   "source": [
    "#Initialize few parameter for Hyperparamter tuning\n",
    "knn_params = {\"n_neighbors\": [2, 3,7, 10,15, 20, 30,40, 50]}"
   ]
  },
  {
   "cell_type": "code",
   "execution_count": 12,
   "id": "38fc3710",
   "metadata": {},
   "outputs": [],
   "source": [
    "# Models list for Hyperparameter tuning\n",
    "grid_search_cv_models = [\n",
    "                    ('KNN', KNeighborsRegressor(), knn_params),\n",
    "                #    (\"RF\", RandomForestRegressor(), rf_params),\n",
    "                #    (\"Adaboost\",AdaBoostRegressor(),ada_params)\n",
    "                   \n",
    "                   ]"
   ]
  },
  {
   "cell_type": "code",
   "execution_count": 14,
   "id": "f739df11",
   "metadata": {},
   "outputs": [
    {
     "name": "stdout",
     "output_type": "stream",
     "text": [
      "\n",
      "🔍 Starting RandomizedSearchCV for: KNN\n",
      "Fitting 3 folds for each of 6 candidates, totalling 18 fits\n",
      "⏱️ Total time taken for KNN: 45.31 seconds\n",
      "\n",
      "---------------- Best Params for KNN -------------------\n",
      "{'n_neighbors': 10}\n"
     ]
    }
   ],
   "source": [
    "# ##Hyperparameter Tuning\n",
    "# from sklearn.model_selection import GridSearchCV\n",
    "\n",
    "# model_param = {}\n",
    "# for name, model, params in grid_search_cv_models:\n",
    "#     grid = GridSearchCV(estimator=model,\n",
    "#                                    param_grid=params,\n",
    "#                                    cv=3,\n",
    "#                                    verbose=2,\n",
    "#                                    n_jobs=-1)\n",
    "#     grid.fit(X_train, y_train)\n",
    "#     model_param[name] = grid.best_params_\n",
    "\n",
    "# for model_name in model_param:\n",
    "#     print(f\"---------------- Best Params for {model_name} -------------------\")\n",
    "#     print(model_param[model_name])\n",
    "    \n",
    "from sklearn.model_selection import GridSearchCV\n",
    "import time\n",
    "\n",
    "model_param = {}\n",
    "# n_iter = 30\n",
    "\n",
    "for name, model, params in randomcv_models:\n",
    "    print(f\"\\n🔍 Starting RandomizedSearchCV for: {name}\")\n",
    "    \n",
    "    random = GridSearchCV(\n",
    "        estimator=model,\n",
    "        param_grid=params,\n",
    "        # n_iter=n_iter,\n",
    "        cv=3,\n",
    "        verbose=2,   # Set to 0 to manage output ourselves\n",
    "        n_jobs=-1\n",
    "    )\n",
    "\n",
    "    # Track iterations manually using loop + Timer\n",
    "    start = time.time()\n",
    "    for i, (param_set) in enumerate(randomcv_models[0][2].items(), start=1):\n",
    "        if i % 5 == 0:\n",
    "            print(f\"✅ {i} iterations completed for {name}...\")\n",
    "\n",
    "    random.fit(X_train, y_train)\n",
    "    end = time.time()\n",
    "\n",
    "    print(f\"⏱️ Total time taken for {name}: {round(end - start, 2)} seconds\")\n",
    "\n",
    "    model_param[name] = random.best_params_\n",
    "\n",
    "# Display best parameters\n",
    "for model_name in model_param:\n",
    "    print(f\"\\n---------------- Best Params for {model_name} -------------------\")\n",
    "    print(model_param[model_name])\n"
   ]
  },
  {
   "cell_type": "code",
   "execution_count": 15,
   "id": "3f30aaef",
   "metadata": {},
   "outputs": [
    {
     "name": "stdout",
     "output_type": "stream",
     "text": [
      "K-Neighbors Regressor\n",
      "Model performance for Training set\n",
      "- Root Mean Squared Error: 55.5129\n",
      "- Mean Absolute Error: 32.6342\n",
      "- R2 Score: 0.5969\n",
      "----------------------------------\n",
      "Model performance for Test set\n",
      "- Root Mean Squared Error: 61.4278\n",
      "- Mean Absolute Error: 36.6144\n",
      "- R2 Score: 0.5058\n",
      "===================================\n",
      "\n",
      "\n"
     ]
    }
   ],
   "source": [
    "## Retraining the models with best parameters\n",
    "models = {\n",
    "    # \"Random Forest Regressor\": RandomForestRegressor(n_estimators=100, min_samples_split=2, max_features='auto', max_depth=None,  n_jobs=-1),\n",
    "    \"K-Neighbors Regressor\": KNeighborsRegressor(n_neighbors=10, n_jobs=-1),\n",
    "    #  \"Adaboost\":AdaBoostRegressor(n_estimators=60,loss='linear')\n",
    "    \n",
    "}\n",
    "for i in range(len(list(models))):\n",
    "    model = list(models.values())[i]\n",
    "    model.fit(X_train, y_train) # Train model\n",
    "\n",
    "    # Make predictions\n",
    "    y_train_pred = model.predict(X_train)\n",
    "    y_test_pred = model.predict(X_test)\n",
    "\n",
    "    model_train_mae , model_train_rmse, model_train_r2 = evaluate_model(y_train, y_train_pred)\n",
    "\n",
    "    model_test_mae , model_test_rmse, model_test_r2 = evaluate_model(y_test, y_test_pred)\n",
    "    \n",
    "    print(list(models.keys())[i])\n",
    "    \n",
    "    print('Model performance for Training set')\n",
    "    print(\"- Root Mean Squared Error: {:.4f}\".format(model_train_rmse))\n",
    "    print(\"- Mean Absolute Error: {:.4f}\".format(model_train_mae))\n",
    "    print(\"- R2 Score: {:.4f}\".format(model_train_r2))\n",
    "\n",
    "    print('----------------------------------')\n",
    "    \n",
    "    print('Model performance for Test set')\n",
    "    print(\"- Root Mean Squared Error: {:.4f}\".format(model_test_rmse))\n",
    "    print(\"- Mean Absolute Error: {:.4f}\".format(model_test_mae))\n",
    "    print(\"- R2 Score: {:.4f}\".format(model_test_r2))\n",
    "    \n",
    "    print('='*35)\n",
    "    print('\\n')"
   ]
  },
  {
   "cell_type": "code",
   "execution_count": 16,
   "id": "4d586091",
   "metadata": {},
   "outputs": [],
   "source": [
    "\n",
    "from sklearn.ensemble import AdaBoostRegressor\n",
    "import pickle\n",
    "\n",
    "# Create and train AdaBoost model\n",
    "knn_model = KNeighborsRegressor()\n",
    "knn_model.fit(X_train, y_train.values.ravel())  # Flatten y if warning arises\n",
    "\n",
    "# Save to a .pkl file\n",
    "with open(r\"../Saving The Model Results/knn_regressor_model.pkl\", \"wb\") as file:\n",
    "    pickle.dump(knn_model, file)\n"
   ]
  },
  {
   "cell_type": "code",
   "execution_count": 12,
   "id": "1e4cca7b",
   "metadata": {},
   "outputs": [],
   "source": [
    "# from sklearn.neighbors import KNeighborsRegressor"
   ]
  },
  {
   "cell_type": "code",
   "execution_count": 13,
   "id": "75a18246",
   "metadata": {},
   "outputs": [],
   "source": [
    "# regressor=KNeighborsRegressor(n_neighbors=6,algorithm='auto')\n",
    "# regressor.fit(X_train,y_train)"
   ]
  },
  {
   "cell_type": "code",
   "execution_count": 14,
   "id": "ec2e35bc",
   "metadata": {},
   "outputs": [],
   "source": [
    "# y_pred=regressor.predict(X_test)"
   ]
  },
  {
   "cell_type": "code",
   "execution_count": 15,
   "id": "89d72931",
   "metadata": {},
   "outputs": [],
   "source": [
    "# from sklearn.metrics import r2_score,mean_absolute_error,mean_squared_error"
   ]
  },
  {
   "cell_type": "code",
   "execution_count": 16,
   "id": "2fe614fc",
   "metadata": {},
   "outputs": [],
   "source": [
    "# print(r2_score(y_test,y_pred))\n",
    "# print(mean_absolute_error(y_test,y_pred))\n",
    "# print(mean_squared_error(y_test,y_pred))"
   ]
  },
  {
   "cell_type": "code",
   "execution_count": null,
   "id": "9b9e6632",
   "metadata": {},
   "outputs": [],
   "source": []
  },
  {
   "cell_type": "code",
   "execution_count": null,
   "id": "92786ac3",
   "metadata": {},
   "outputs": [],
   "source": []
  }
 ],
 "metadata": {
  "kernelspec": {
   "display_name": "base",
   "language": "python",
   "name": "python3"
  },
  "language_info": {
   "codemirror_mode": {
    "name": "ipython",
    "version": 3
   },
   "file_extension": ".py",
   "mimetype": "text/x-python",
   "name": "python",
   "nbconvert_exporter": "python",
   "pygments_lexer": "ipython3",
   "version": "3.11.5"
  }
 },
 "nbformat": 4,
 "nbformat_minor": 5
}
